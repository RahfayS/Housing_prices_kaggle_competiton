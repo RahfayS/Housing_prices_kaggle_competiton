{
 "cells": [
  {
   "cell_type": "markdown",
   "id": "f07c7546-9bc3-473f-a070-b0ec9f4b61ff",
   "metadata": {},
   "source": [
    "## Housing Prices Competition for Kaggle Learn Users\n",
    "\n",
    "Link to competition: https://www.kaggle.com/competitions/home-data-for-ml-course\n",
    "\n",
    "#### Goal of the project\n",
    "\n",
    "It is your job to predict the sales price for each house. For each Id in the test set, you must predict the value of the SalePrice variable. "
   ]
  },
  {
   "cell_type": "code",
   "execution_count": 1,
   "id": "07b0793d-eff9-40f4-be17-a3ba14e1aca0",
   "metadata": {},
   "outputs": [
    {
     "name": "stdout",
     "output_type": "stream",
     "text": [
      "Initialized empty Git repository in /Users/rahfaysaberi/ml_projects/Housing_prices_kaggle_competiton/model/.git/\n",
      "fatal: pathspec 'README.md' did not match any files\n",
      "On branch main\n",
      "\n",
      "Initial commit\n",
      "\n",
      "Untracked files:\n",
      "  (use \"git add <file>...\" to include in what will be committed)\n",
      "\t\u001b[31m.ipynb_checkpoints/\u001b[m\n",
      "\t\u001b[31mHousing_prices_final.ipynb\u001b[m\n",
      "\t\u001b[31mtest.csv\u001b[m\n",
      "\t\u001b[31mtrain.csv\u001b[m\n",
      "\n",
      "nothing added to commit but untracked files present (use \"git add\" to track)\n",
      "error: src refspec main does not match any\n",
      "\u001b[31merror: failed to push some refs to 'https://github.com/RahfayS/Housing_prices_kaggle_competiton.git'\n",
      "\u001b[m"
     ]
    }
   ],
   "source": [
    "!git init\n",
    "!git add README.md\n",
    "!git commit -m \"first commit\"\n",
    "!git branch -M main\n",
    "!git remote add origin https://github.com/RahfayS/Housing_prices_kaggle_competiton.git\n",
    "!git push -u origin main"
   ]
  },
  {
   "cell_type": "code",
   "execution_count": null,
   "id": "b576d17d-afaa-4c5a-9f1b-d07748671e73",
   "metadata": {},
   "outputs": [],
   "source": []
  }
 ],
 "metadata": {
  "kernelspec": {
   "display_name": "Python [conda env:base] *",
   "language": "python",
   "name": "conda-base-py"
  },
  "language_info": {
   "codemirror_mode": {
    "name": "ipython",
    "version": 3
   },
   "file_extension": ".py",
   "mimetype": "text/x-python",
   "name": "python",
   "nbconvert_exporter": "python",
   "pygments_lexer": "ipython3",
   "version": "3.12.7"
  }
 },
 "nbformat": 4,
 "nbformat_minor": 5
}
